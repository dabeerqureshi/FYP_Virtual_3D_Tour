{
 "cells": [
  {
   "cell_type": "code",
   "execution_count": 32,
   "metadata": {},
   "outputs": [],
   "source": [
    "import torch\n",
    "import torchvision.transforms as transforms\n",
    "from torchvision.models import densenet121, resnet50\n",
    "import os\n",
    "import numpy as np\n",
    "import faiss\n",
    "from PIL import Image\n",
    "import numpy as np\n",
    "from sklearn.metrics.pairwise import cosine_similarity\n",
    "from sklearn.decomposition import PCA\n",
    "import matplotlib.pyplot as plt\n",
    "import torch.nn as nn\n",
    "import torch.optim as optim\n"
   ]
  },
  {
   "cell_type": "code",
   "execution_count": 52,
   "metadata": {},
   "outputs": [],
   "source": [
    "# Initialize ResNet\n",
    "device = torch.device(\"cuda\" if torch.cuda.is_available() else \"cpu\")\n",
    "model = resnet50(pretrained=True)  \n",
    "\n",
    "# Freeze early layers\n",
    "for param in model.parameters():\n",
    "    param.requires_grad = False\n",
    "\n",
    "# Replace the last layer with a new one\n",
    "num_ftrs = model.fc.in_features\n",
    "model.fc = nn.Sequential(\n",
    "    nn.Linear(num_ftrs, 1024),\n",
    "    nn.LayerNorm(1024),  # Replace BatchNorm1d with LayerNorm\n",
    "    nn.ReLU(),\n",
    "    nn.Dropout(0.4),  \n",
    "    nn.Linear(1024, 512)  \n",
    ")\n",
    "\n",
    "# Unfreeze last few layers for fine-tuning\n",
    "for param in list(model.parameters())[-20:]:  \n",
    "    param.requires_grad = True\n",
    "\n",
    "# Use AdamW optimizer with weight decay\n",
    "optimizer = optim.AdamW(model.parameters(), lr=5e-5, weight_decay=1e-4)  \n",
    "\n",
    "# Learning rate scheduler\n",
    "scheduler = optim.lr_scheduler.StepLR(optimizer, step_size=3, gamma=0.5)  \n",
    "\n",
    "# Ensure model is in eval mode before inference\n",
    "model.eval()\n",
    "\n",
    "os.environ[\"KMP_DUPLICATE_LIB_OK\"] = \"TRUE\"\n"
   ]
  },
  {
   "cell_type": "code",
   "execution_count": 53,
   "metadata": {},
   "outputs": [],
   "source": [
    "# Image transformation\n",
    "transform = transforms.Compose([\n",
    "    transforms.Resize((224, 224)),\n",
    "    transforms.ToTensor(),\n",
    "    transforms.Normalize(mean=[0.485, 0.456, 0.406], std=[0.229, 0.224, 0.225])\n",
    "])"
   ]
  },
  {
   "cell_type": "code",
   "execution_count": 54,
   "metadata": {},
   "outputs": [],
   "source": [
    "# Function to generate embedding using ResNet\n",
    "def generate_embedding(image_path):\n",
    "    image = Image.open(image_path).convert('RGB')\n",
    "    image = transform(image).unsqueeze(0).to(device)\n",
    "    with torch.no_grad():\n",
    "        embedding = model(image).squeeze(0).cpu().numpy()\n",
    "    return embedding\n"
   ]
  },
  {
   "cell_type": "code",
   "execution_count": 36,
   "metadata": {},
   "outputs": [
    {
     "name": "stderr",
     "output_type": "stream",
     "text": [
      "C:\\Users\\qures\\AppData\\Local\\Packages\\PythonSoftwareFoundation.Python.3.11_qbz5n2kfra8p0\\LocalCache\\local-packages\\Python311\\site-packages\\torchvision\\models\\_utils.py:223: UserWarning: Arguments other than a weight enum or `None` for 'weights' are deprecated since 0.13 and may be removed in the future. The current behavior is equivalent to passing `weights=DenseNet121_Weights.IMAGENET1K_V1`. You can also use `weights=DenseNet121_Weights.DEFAULT` to get the most up-to-date weights.\n",
      "  warnings.warn(msg)\n"
     ]
    },
    {
     "name": "stdout",
     "output_type": "stream",
     "text": [
      "Mean Cosine Similarity for ResNet50 embeddings: 0.9876\n",
      "Mean Cosine Similarity for DenseNet121 embeddings: 0.9897\n"
     ]
    },
    {
     "data": {
      "image/png": "[encoded data removed]",
      "text/plain": [
       "<Figure size 1000x600 with 1 Axes>"
      ]
     },
     "metadata": {},
     "output_type": "display_data"
    }
   ],
   "source": [
    "import os\n",
    "import torch\n",
    "import numpy as np\n",
    "from PIL import Image\n",
    "from sklearn.metrics.pairwise import cosine_similarity\n",
    "from sklearn.decomposition import PCA\n",
    "import matplotlib.pyplot as plt\n",
    "\n",
    "# Assuming models and device are already defined\n",
    "# Example: model1 = ResNet50, model2 = DenseNet121\n",
    "# Assuming transform and device are defined as well\n",
    "\n",
    "# Function to generate embedding using ResNet\n",
    "def generate_embedding_resnet(image_path):\n",
    "    image = Image.open(image_path).convert('RGB')\n",
    "    image = transform(image).unsqueeze(0).to(device)\n",
    "    with torch.no_grad():\n",
    "        model1 = resnet50(pretrained=True)  # Replace DenseNet with ResNet\n",
    "        embedding = model1(image).squeeze(0).cpu().numpy()  # Use ResNet50 model\n",
    "    return embedding\n",
    "\n",
    "# Function to generate embedding using DenseNet\n",
    "def generate_embedding_densenet(image_path):\n",
    "    image = Image.open(image_path).convert('RGB')\n",
    "    image = transform(image).unsqueeze(0).to(device)\n",
    "    with torch.no_grad():\n",
    "        model2 = densenet121(pretrained=True)\n",
    "        embedding = model2(image).squeeze(0).cpu().numpy()  # Use DenseNet121 model\n",
    "    return embedding\n",
    "\n",
    "# Directory path where your dataset is stored\n",
    "dataset_dir = r\"C:\\Users\\qures\\OneDrive\\Desktop\\Matching Images Embeddings\\Images\"\n",
    "\n",
    "# Store embeddings\n",
    "embeddings_resnet = []\n",
    "embeddings_densenet = []\n",
    "\n",
    "# Iterate over all subfolders in the dataset directory\n",
    "for folder_name in os.listdir(dataset_dir):\n",
    "    folder_path = os.path.join(dataset_dir, folder_name)\n",
    "    \n",
    "    # Only process directories (subfolders)\n",
    "    if os.path.isdir(folder_path):\n",
    "        for image_name in os.listdir(folder_path):\n",
    "            image_path = os.path.join(folder_path, image_name)\n",
    "            \n",
    "            if image_name.endswith(('.jpg', '.jpeg', '.png')):\n",
    "                # Generate embeddings for each image using both models\n",
    "                embedding_resnet = generate_embedding_resnet(image_path)\n",
    "                embedding_densenet = generate_embedding_densenet(image_path)\n",
    "                \n",
    "                # Append the embeddings to the list\n",
    "                embeddings_resnet.append(embedding_resnet)\n",
    "                embeddings_densenet.append(embedding_densenet)\n",
    "\n",
    "# Convert list of embeddings to NumPy arrays\n",
    "embeddings_resnet = np.array(embeddings_resnet)\n",
    "embeddings_densenet = np.array(embeddings_densenet)\n",
    "\n",
    "# Compute cosine similarity between the embeddings from both models\n",
    "cos_sim_resnet = cosine_similarity(embeddings_resnet)  # Similarity for ResNet50 embeddings\n",
    "cos_sim_densenet = cosine_similarity(embeddings_densenet)  # Similarity for DenseNet121 embeddings\n",
    "\n",
    "# If you want to check overall similarity, compute the mean cosine similarity\n",
    "mean_cos_sim_resnet = np.mean(cos_sim_resnet)\n",
    "mean_cos_sim_densenet = np.mean(cos_sim_densenet)\n",
    "\n",
    "print(f\"Mean Cosine Similarity for ResNet50 embeddings: {mean_cos_sim_resnet:.4f}\")\n",
    "print(f\"Mean Cosine Similarity for DenseNet121 embeddings: {mean_cos_sim_densenet:.4f}\")\n",
    "\n",
    "# Perform PCA for dimensionality reduction (Visualize the embeddings)\n",
    "pca = PCA(n_components=2)\n",
    "\n",
    "# Reduce dimensions to 2D for visualization\n",
    "embeddings_resnet_2d = pca.fit_transform(embeddings_resnet)\n",
    "embeddings_densenet_2d = pca.fit_transform(embeddings_densenet)\n",
    "\n",
    "# Plot the embeddings to visually compare\n",
    "plt.figure(figsize=(10, 6))\n",
    "plt.scatter(embeddings_resnet_2d[:, 0], embeddings_resnet_2d[:, 1], color='blue', label='ResNet50')\n",
    "plt.scatter(embeddings_densenet_2d[:, 0], embeddings_densenet_2d[:, 1], color='red', label='DenseNet121')\n",
    "plt.title(\"2D PCA Visualization of Embeddings\")\n",
    "plt.legend()\n",
    "plt.show()\n"
   ]
  },
  {
   "cell_type": "code",
   "execution_count": 55,
   "metadata": {},
   "outputs": [],
   "source": [
    "# Function to save embeddings and image names\n",
    "def save_embeddings_and_names(dataset_path):\n",
    "    embeddings = []\n",
    "    image_names = []\n",
    "\n",
    "    # Process all images in the dataset\n",
    "    for category in os.listdir(dataset_path):\n",
    "        category_path = os.path.join(dataset_path, category)\n",
    "        if os.path.isdir(category_path):\n",
    "            for img_file in os.listdir(category_path):\n",
    "                img_path = os.path.join(category_path, img_file)\n",
    "                embedding = generate_embedding(img_path)\n",
    "                embeddings.append(embedding)\n",
    "                image_names.append(f\"{category}/{img_file}\")\n",
    "    \n",
    "    embeddings = np.array(embeddings)\n",
    "    image_names = np.array(image_names)\n",
    "    \n",
    "    # Save embeddings and image names\n",
    "    np.save('image_embeddings.npy', embeddings)\n",
    "    np.save('image_names.npy', image_names)\n",
    "    print(f\"Saved {len(image_names)} embeddings and image names.\")\n"
   ]
  },
  {
   "cell_type": "code",
   "execution_count": 56,
   "metadata": {},
   "outputs": [],
   "source": [
    "# Load saved embeddings and image names\n",
    "def load_embeddings_and_names():\n",
    "    saved_embeddings = np.load('image_embeddings.npy')\n",
    "    image_names = np.load('image_names.npy')\n",
    "    return saved_embeddings, image_names"
   ]
  },
  {
   "cell_type": "code",
   "execution_count": 57,
   "metadata": {},
   "outputs": [],
   "source": [
    "# Initialize FAISS index and add saved embeddings\n",
    "def initialize_faiss_index(saved_embeddings):\n",
    "    embedding_dim = saved_embeddings.shape[1]  # Get the embedding dimension from saved embeddings\n",
    "    faiss_index = faiss.IndexFlatL2(embedding_dim)  # Using L2 distance (Cosine similarity can also be used)\n",
    "    faiss_index.add(saved_embeddings)  # Add saved embeddings to FAISS index\n",
    "    return faiss_index"
   ]
  },
  {
   "cell_type": "code",
   "execution_count": 58,
   "metadata": {},
   "outputs": [],
   "source": [
    "# Normalize embeddings to unit vectors (for cosine similarity)\n",
    "def normalize_embeddings(embeddings):\n",
    "    return embeddings / np.linalg.norm(embeddings, axis=1, keepdims=True)"
   ]
  },
  {
   "cell_type": "code",
   "execution_count": 59,
   "metadata": {},
   "outputs": [],
   "source": [
    "# Function to find the most similar image\n",
    "def find_most_similar_image(input_image_path, faiss_index, image_names):\n",
    "    input_embedding = generate_embedding(input_image_path)\n",
    "    input_embedding = input_embedding / np.linalg.norm(input_embedding)  # Normalize input embedding\n",
    "\n",
    "    # Perform similarity search using FAISS\n",
    "    distances, indices = faiss_index.search(np.array([input_embedding]), k=1)  # k=1 to get top 1 match\n",
    "\n",
    "    # Get the most matched image\n",
    "    matched_image_name = image_names[indices[0][0]]\n",
    "    return matched_image_name, distances[0][0]"
   ]
  },
  {
   "cell_type": "code",
   "execution_count": 60,
   "metadata": {},
   "outputs": [
    {
     "name": "stdout",
     "output_type": "stream",
     "text": [
      "Saved 25 embeddings and image names.\n",
      "Most matched image: Saif_ul_malok/saif_ul_malok_4.jpg with distance: 0.41974759101867676\n"
     ]
    }
   ],
   "source": [
    "# Main function\n",
    "def main():\n",
    "    dataset_path = r\"C:\\Users\\qures\\OneDrive\\Desktop\\Matching Images Embeddings\\Images\"  # Path to your dataset (5 places each having 5 images)\n",
    "    \n",
    "    # Save embeddings and image names to files\n",
    "    save_embeddings_and_names(dataset_path)\n",
    "\n",
    "    # Load saved embeddings and image names\n",
    "    saved_embeddings, image_names = load_embeddings_and_names()\n",
    "\n",
    "    # Normalize embeddings to unit vectors for cosine similarity\n",
    "    saved_embeddings = normalize_embeddings(saved_embeddings)\n",
    "\n",
    "    # Initialize FAISS index and add embeddings\n",
    "    faiss_index = initialize_faiss_index(saved_embeddings)\n",
    "\n",
    "    # Test with an input image (user's image)\n",
    "    input_image_path = r\"C:\\Users\\qures\\OneDrive\\Desktop\\ansu_test.jpg\"  # Path to the input image provided by the user\n",
    "    matched_image_name, distance = find_most_similar_image(input_image_path, faiss_index, image_names)\n",
    "\n",
    "    # Display the result\n",
    "    print(f\"Most matched image: {matched_image_name} with distance: {distance}\")\n",
    "\n",
    "if __name__ == \"__main__\":\n",
    "    main()"
   ]
  },
  {
   "cell_type": "code",
   "execution_count": null,
   "metadata": {},
   "outputs": [],
   "source": []
  }
 ],
 "metadata": {
  "kernelspec": {
   "display_name": "Python 3",
   "language": "python",
   "name": "python3"
  },
  "language_info": {
   "codemirror_mode": {
    "name": "ipython",
    "version": 3
   },
   "file_extension": ".py",
   "mimetype": "text/x-python",
   "name": "python",
   "nbconvert_exporter": "python",
   "pygments_lexer": "ipython3",
   "version": "3.11.9"
  }
 },
 "nbformat": 4,
 "nbformat_minor": 2
}
